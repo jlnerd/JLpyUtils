{
 "cells": [
  {
   "cell_type": "code",
   "execution_count": 8,
   "metadata": {},
   "outputs": [
    {
     "name": "stderr",
     "output_type": "stream",
     "text": [
      "[NbConvertApp] Converting notebook ML_Preprocess.ipynb to script\n",
      "[NbConvertApp] Writing 1614 bytes to ML_Preprocess.py\n"
     ]
    }
   ],
   "source": [
    "#To call in code, add the following command\n",
    "# import sys, os\n",
    "# desktop_path = os.path.join(os.path.expanduser(\"~\"), \"Desktop\")\n",
    "# sys.path.insert(0, desktop_path+'/JLpy_Utilities')\n",
    "# import ML_Preprocess\n",
    "\n",
    "#Save the jupyter notebook file as .py to load as module in other notebooks\n",
    "try:\n",
    "    !jupyter nbconvert --to script ML_Preprocess.ipynb\n",
    "except:\n",
    "    print('')\n",
    "\n",
    "def Scale_Data(df_X,df_y,path_root):\n",
    "    \n",
    "    '''\n",
    "    Description:\n",
    "        performs min max scaling on X and y dfs and saves the scaler generators to 'Features_Scaler.save' and 'Label_Scaler.save in the 'path_root'\n",
    "    Inputs:\n",
    "        df_X, df_y, path_root\n",
    "    Returns:\n",
    "        scaler_X, scaler_y, df_X_scaled, df_y_scaled\n",
    "    '''\n",
    "    #Load Modules\n",
    "    from sklearn.externals import joblib\n",
    "    from sklearn.preprocessing import MinMaxScaler\n",
    "    import numpy as np\n",
    "    import pandas as pd\n",
    "    \n",
    "    #Build Scalers\n",
    "    scaler_X = MinMaxScaler()\n",
    "    scaler_X.fit(np.array(df_X))\n",
    "\n",
    "    scaler_y = MinMaxScaler()\n",
    "    scaler_y.fit(np.array(df_y))\n",
    "\n",
    "    #Save the scalers\n",
    "    scaler_X_filename = path_root +\"\\Features_Scaler.save\"\n",
    "    joblib.dump(scaler_X, scaler_X_filename)\n",
    "\n",
    "    scaler_y_filename =path_root +\"\\Label_Scaler.save\"\n",
    "    joblib.dump(scaler_y, scaler_y_filename) \n",
    "    \n",
    "    #Scale the data\n",
    "    df_X_scaled = pd.DataFrame(scaler_X.transform(np.array(df_X)),columns = df_X.columns)\n",
    "    df_y_scaled = pd.DataFrame(scaler_y.transform(np.array(df_y)),columns = df_y.columns)\n",
    "    \n",
    "    # Load Scalers: scaler = joblib.load(scaler_filename) \n",
    "    \n",
    "    return scaler_X, scaler_y, df_X_scaled, df_y_scaled"
   ]
  },
  {
   "cell_type": "code",
   "execution_count": null,
   "metadata": {},
   "outputs": [],
   "source": []
  }
 ],
 "metadata": {
  "kernelspec": {
   "display_name": "Python 3",
   "language": "python",
   "name": "python3"
  },
  "language_info": {
   "codemirror_mode": {
    "name": "ipython",
    "version": 3
   },
   "file_extension": ".py",
   "mimetype": "text/x-python",
   "name": "python",
   "nbconvert_exporter": "python",
   "pygments_lexer": "ipython3",
   "version": "3.6.5"
  }
 },
 "nbformat": 4,
 "nbformat_minor": 2
}
