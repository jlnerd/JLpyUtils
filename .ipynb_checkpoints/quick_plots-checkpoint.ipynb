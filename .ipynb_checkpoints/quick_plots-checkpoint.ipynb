{
 "cells": [
  {
   "cell_type": "code",
   "execution_count": 2,
   "metadata": {},
   "outputs": [
    {
     "name": "stdout",
     "output_type": "stream",
     "text": [
      "[NbConvertApp] Converting notebook quick_plots.ipynb to script\n",
      "[NbConvertApp] Writing 1287 bytes to quick_plots.py\n"
     ]
    }
   ],
   "source": [
    "#To call in code, add the following command\n",
    "# import sys, os\n",
    "# desktop_path = os.path.join(os.path.expanduser(\"~\"), \"Desktop\")\n",
    "# sys.path.insert(0, desktop_path+'/JLpy_Utilities')\n",
    "# import quick_plots\n",
    "\n",
    "import matplotlib.pyplot as plt\n",
    "\n",
    "#normal plot with blue pts\n",
    "def plot(df,x_label,y_label):\n",
    "    plt.plot(df[x_label],df[y_label],'ob')\n",
    "    plt.xlabel(x_label,fontsize = 16)\n",
    "    plt.ylabel(y_label,fontsize = 16)\n",
    "    plt.grid(which='major',color = 'dimgray')\n",
    "    plt.grid(which='minor',color='lightgray')\n",
    "    plt.tick_params(axis='both',labelsize = 14)\n",
    "\n",
    "#log log plot\n",
    "def loglog_plot(df,x_label,y_label):\n",
    "    plot(df,x_label,y_label)\n",
    "    plt.xscale(\"log\")\n",
    "    plt.yscale(\"log\")\n",
    "\n",
    "#Plot correlation matrix\n",
    "def plot_corr(df,size=10):\n",
    "    '''Function plots a graphical correlation matrix for each pair of columns in the dataframe.\n",
    "\n",
    "    Input:\n",
    "        df: pandas DataFrame\n",
    "        size: vertical and horizontal size of the plot'''\n",
    "\n",
    "    corr = df.corr()\n",
    "    fig, ax = plt.subplots(figsize=(size, size))\n",
    "    ax.matshow(corr)\n",
    "    plt.xticks(range(len(corr.columns)), corr.columns,rotation='vertical');\n",
    "    plt.yticks(range(len(corr.columns)), corr.columns);\n",
    "    \n",
    "#Save this notebook as python version\n",
    "!jupyter nbconvert --to script quick_plots.ipynb"
   ]
  },
  {
   "cell_type": "code",
   "execution_count": null,
   "metadata": {},
   "outputs": [],
   "source": []
  }
 ],
 "metadata": {
  "kernelspec": {
   "display_name": "Python 3",
   "language": "python",
   "name": "python3"
  },
  "language_info": {
   "codemirror_mode": {
    "name": "ipython",
    "version": 3
   },
   "file_extension": ".py",
   "mimetype": "text/x-python",
   "name": "python",
   "nbconvert_exporter": "python",
   "pygments_lexer": "ipython3",
   "version": "3.6.5"
  }
 },
 "nbformat": 4,
 "nbformat_minor": 2
}
