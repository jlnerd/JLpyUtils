{
 "cells": [
  {
   "cell_type": "code",
   "execution_count": 4,
   "metadata": {},
   "outputs": [
    {
     "name": "stderr",
     "output_type": "stream",
     "text": [
      "[NbConvertApp] Converting notebook JLstrings.ipynb to script\n",
      "[NbConvertApp] Writing 1879 bytes to JLstrings.py\n"
     ]
    }
   ],
   "source": [
    "#To call in code, add the following command\n",
    "# import sys, os\n",
    "# desktop_path = os.path.join(os.path.expanduser(\"~\"), \"Desktop\")\n",
    "# sys.path.insert(0, desktop_path+'/JLpy_Utilities')\n",
    "# import JLstrings\n",
    "\n",
    "#Save the jupyter notebook file as .py to load as module in other notebooks\n",
    "try:\n",
    "    !jupyter nbconvert --to script JLstrings.ipynb\n",
    "except:\n",
    "    print('')\n",
    "\n",
    "#Load necessary modules\n",
    "import pandas as pd\n",
    "\n",
    "#Define Module Functions\n",
    "def standardize_headers(df):\n",
    "    #docstring\n",
    "    \"\"\"\n",
    "    replace illegal characters in the df headers with '' or some legal variant of the character (i.e '&' is replaced by 'and')\n",
    "    \"\"\"\n",
    "    \n",
    "    headers_original = pd.DataFrame(df.columns,columns=['Original_Headers'])\n",
    "    \n",
    "    illegal_chars = [' ','{', '}', '?', '$', '%', '^', '&', '*', '(', ')','-','#', '?',',','<','>', '/', '|', '[' ,']','@','λ']\n",
    "    for char in illegal_chars:\n",
    "        if char == ' ':\n",
    "            df.columns = df.columns.str.replace(char,'_')\n",
    "        elif char == '#':\n",
    "            df.columns = df.columns.str.replace(char,'num')\n",
    "        elif char == '&':\n",
    "            df.columns = df.columns.str.replace(char,'and')\n",
    "        elif char == '|':\n",
    "            df.columns = df.columns.str.replace(char,'abs')\n",
    "        elif char == '@':\n",
    "            df.columns = df.columns.str.replace(char,'at')\n",
    "        elif char == 'λ':\n",
    "            df.columns = df.columns.str.replace(char,'lambda')\n",
    "        elif char == '%':\n",
    "            df.columns = df.columns.str.replace(char,'prc')\n",
    "        else:\n",
    "            df.columns = df.columns.str.replace(char,'')\n",
    "            \n",
    "    headers_standardized = pd.DataFrame(df.columns,columns=['Standardized_Headers'])\n",
    "    \n",
    "    headers_2Darray = pd.concat((headers_original,headers_standardized),axis = 1)\n",
    "    \n",
    "    df = pd.DataFrame(df)\n",
    "    \n",
    "    return df, headers_standardized, headers_original, headers_2Darray\n",
    "    \n",
    "\n"
   ]
  },
  {
   "cell_type": "code",
   "execution_count": null,
   "metadata": {},
   "outputs": [],
   "source": []
  }
 ],
 "metadata": {
  "kernelspec": {
   "display_name": "Python 3",
   "language": "python",
   "name": "python3"
  },
  "language_info": {
   "codemirror_mode": {
    "name": "ipython",
    "version": 3
   },
   "file_extension": ".py",
   "mimetype": "text/x-python",
   "name": "python",
   "nbconvert_exporter": "python",
   "pygments_lexer": "ipython3",
   "version": "3.6.5"
  }
 },
 "nbformat": 4,
 "nbformat_minor": 2
}
