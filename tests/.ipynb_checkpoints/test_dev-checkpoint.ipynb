{
 "cells": [
  {
   "cell_type": "code",
   "execution_count": 2,
   "metadata": {
    "scrolled": false
   },
   "outputs": [],
   "source": [
    "import sys, os\n",
    "import pandas as pd\n",
    "import numpy as np\n",
    "import dask.dataframe\n",
    "\n",
    "import importlib\n",
    "\n",
    "import pytest\n",
    "\n",
    "\n",
    "#add to JLpyUtils to system path (not required in the actual test files)\n",
    "sys.path.insert(0,os.path.abspath(os.path.join(os.path.dirname(os.path.abspath('__file__')),'..')))\n",
    "\n",
    "import JLpyUtils\n"
   ]
  }
 ],
 "metadata": {
  "kernelspec": {
   "display_name": "Python 3",
   "language": "python",
   "name": "python3"
  },
  "toc": {
   "base_numbering": 1,
   "nav_menu": {},
   "number_sections": true,
   "sideBar": true,
   "skip_h1_title": false,
   "title_cell": "Table of Contents",
   "title_sidebar": "Contents",
   "toc_cell": false,
   "toc_position": {},
   "toc_section_display": true,
   "toc_window_display": false
  }
 },
 "nbformat": 4,
 "nbformat_minor": 2
}
