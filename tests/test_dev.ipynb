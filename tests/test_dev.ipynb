{
 "cells": [
  {
   "cell_type": "code",
   "execution_count": 7,
   "metadata": {},
   "outputs": [],
   "source": [
    "import sys, os\n",
    "\n",
    "import importlib\n",
    "\n",
    "import pytest\n",
    "\n",
    "\n",
    "#add to JLpyUtils to system path (not required in the actual test files)\n",
    "sys.path.insert(0,os.path.abspath(os.path.join(os.path.dirname(os.path.abspath('__file__')),'..')))\n",
    "\n",
    "import JLpyUtils\n",
    "\n",
    "importlib.reload(JLpyUtils)\n",
    "importlib.reload(JLpyUtils.ML)\n",
    "importlib.reload(JLpyUtils.ML.preprocessing)\n",
    "importlib.reload(JLpyUtils.ML.preprocessing.Scale)\n",
    "\n",
    "def build_data_and_headers_dict():\n",
    "    \"\"\"\n",
    "    Build a dictionary with different kinds of data to be tested on\n",
    "    \"\"\"\n",
    "\n",
    "    import pandas as pd\n",
    "    import dask, dask.dataframe\n",
    "    import numpy as np\n",
    "    \n",
    "    X1 = np.linspace(0,1,10000)#*np.random.ranf(1000)\n",
    "    X2 = X1#*np.random.ranf(1000)\n",
    "    X3 = X1#*np.random.ranf(1000)\n",
    "\n",
    "    y1 = X2 + 2*X2 + 3*X3\n",
    "    y2 = X2 - 2*X2 - 3*X3\n",
    "    \n",
    "    df_X=pd.DataFrame(np.array([X1,X2,X3]).T,columns=['X1','X2','X3'])\n",
    "\n",
    "    headers_dict={'continuous features': list(df_X.columns)}\n",
    "    \n",
    "    df_X['categorical int'] = list(np.random.randint(0,10000, df_X.shape[0]))\n",
    "    df_X['categorical str'] = [['a','b','c','d','e','f','g','h','i','j','k','l',\n",
    "                                'm','n','o','p','q','r','s','t','v','w','x','y','z',\n",
    "                                'aa','bb','cc','dd','ee','ff','gg','hh','ii','jj','kk',\n",
    "                                'll','mm','nn','oo','pp','qq','rr','ss','tt','uu','vv','xx',\n",
    "                                'yy','zz','aaa','bbb','ccc','ddd','eee','fff','ggg','hhh'\n",
    "                               ][np.random.randint(0,2,1)[0]] for i in range(df_X.shape[0])]\n",
    "    \n",
    "    \n",
    "    headers_dict['categorical features'] = ['categorical int','categorical str']\n",
    "    \n",
    "    df_y = pd.DataFrame(y1, columns=['y1'])\n",
    "    df_yy = pd.DataFrame(np.array([y1,y2]).T,columns=['y1','y2'])\n",
    "\n",
    "    #build dask equivalent dataframes\n",
    "    ddf_X = dask.dataframe.from_pandas(df_X, npartitions=3)\n",
    "    ddf_y = dask.dataframe.from_pandas(df_y, npartitions= 3)\n",
    "    ddf_yy = dask.dataframe.from_pandas(df_yy, npartitions= 3)\n",
    "    \n",
    "    data_dict = {'df_X':df_X,\n",
    "                 'df_y':df_y,\n",
    "                 'df_yy':df_yy,\n",
    "                 'ddf_X':ddf_X,\n",
    "                 'ddf_y':ddf_y,\n",
    "                 'ddf_yy':ddf_yy}\n",
    "    \n",
    "    return data_dict, headers_dict\n",
    "\n",
    "def test_Scale_continuous_features_on_pandas_df():\n",
    "    \n",
    "    data_dict, headers_dict = build_data_and_headers_dict()\n",
    "    \n",
    "    X = data_dict['df_X'][headers_dict['continuous features']]\n",
    "    \n",
    "    Scaler = JLpyUtils.ML.preprocessing.Scale.continuous_features()\n",
    "    Scaler.fit(X)\n",
    "    X = Scaler.transform(X)\n",
    "    \n",
    "    assert(X.shape[0]>0)\n",
    "    \n",
    "def test_Scale_continuous_features_on_dask_df():\n",
    "    \n",
    "    data_dict, headers_dict = build_data_and_headers_dict()\n",
    "    \n",
    "    X = data_dict['ddf_X'][headers_dict['continuous features']]\n",
    "    \n",
    "    Scaler = JLpyUtils.ML.preprocessing.Scale.continuous_features()\n",
    "    Scaler.fit(X)\n",
    "    X = Scaler.transform(X)\n",
    "    \n",
    "    assert(X.compute().shape[0]>0)\n",
    "    \n",
    "test_Scale_continuous_features_on_pandas_df()\n",
    "test_Scale_continuous_features_on_dask_df()"
   ]
  },
  {
   "cell_type": "code",
   "execution_count": 8,
   "metadata": {},
   "outputs": [],
   "source": [
    "data_dict, headers_dict = build_data_and_headers_dict()\n",
    "X = data_dict['df_X']\n",
    "y = data_dict['df_y']"
   ]
  },
  {
   "cell_type": "code",
   "execution_count": 9,
   "metadata": {},
   "outputs": [
    {
     "data": {
      "text/html": [
       "<div>\n",
       "<style scoped>\n",
       "    .dataframe tbody tr th:only-of-type {\n",
       "        vertical-align: middle;\n",
       "    }\n",
       "\n",
       "    .dataframe tbody tr th {\n",
       "        vertical-align: top;\n",
       "    }\n",
       "\n",
       "    .dataframe thead th {\n",
       "        text-align: right;\n",
       "    }\n",
       "</style>\n",
       "<table border=\"1\" class=\"dataframe\">\n",
       "  <thead>\n",
       "    <tr style=\"text-align: right;\">\n",
       "      <th></th>\n",
       "      <th>X1</th>\n",
       "      <th>X2</th>\n",
       "      <th>X3</th>\n",
       "      <th>categorical int</th>\n",
       "      <th>categorical str</th>\n",
       "    </tr>\n",
       "  </thead>\n",
       "  <tbody>\n",
       "    <tr>\n",
       "      <th>0</th>\n",
       "      <td>0.0000</td>\n",
       "      <td>0.0000</td>\n",
       "      <td>0.0000</td>\n",
       "      <td>3369</td>\n",
       "      <td>a</td>\n",
       "    </tr>\n",
       "    <tr>\n",
       "      <th>1</th>\n",
       "      <td>0.0001</td>\n",
       "      <td>0.0001</td>\n",
       "      <td>0.0001</td>\n",
       "      <td>4740</td>\n",
       "      <td>a</td>\n",
       "    </tr>\n",
       "    <tr>\n",
       "      <th>2</th>\n",
       "      <td>0.0002</td>\n",
       "      <td>0.0002</td>\n",
       "      <td>0.0002</td>\n",
       "      <td>3238</td>\n",
       "      <td>a</td>\n",
       "    </tr>\n",
       "    <tr>\n",
       "      <th>3</th>\n",
       "      <td>0.0003</td>\n",
       "      <td>0.0003</td>\n",
       "      <td>0.0003</td>\n",
       "      <td>5163</td>\n",
       "      <td>a</td>\n",
       "    </tr>\n",
       "    <tr>\n",
       "      <th>4</th>\n",
       "      <td>0.0004</td>\n",
       "      <td>0.0004</td>\n",
       "      <td>0.0004</td>\n",
       "      <td>2282</td>\n",
       "      <td>b</td>\n",
       "    </tr>\n",
       "  </tbody>\n",
       "</table>\n",
       "</div>"
      ],
      "text/plain": [
       "       X1      X2      X3  categorical int categorical str\n",
       "0  0.0000  0.0000  0.0000             3369               a\n",
       "1  0.0001  0.0001  0.0001             4740               a\n",
       "2  0.0002  0.0002  0.0002             3238               a\n",
       "3  0.0003  0.0003  0.0003             5163               a\n",
       "4  0.0004  0.0004  0.0004             2282               b"
      ]
     },
     "execution_count": 9,
     "metadata": {},
     "output_type": "execute_result"
    }
   ],
   "source": [
    "X.head()"
   ]
  },
  {
   "cell_type": "code",
   "execution_count": 10,
   "metadata": {},
   "outputs": [
    {
     "data": {
      "text/plain": [
       "6367"
      ]
     },
     "execution_count": 10,
     "metadata": {},
     "output_type": "execute_result"
    }
   ],
   "source": [
    "X['categorical int'].nunique()"
   ]
  },
  {
   "cell_type": "code",
   "execution_count": 11,
   "metadata": {},
   "outputs": [
    {
     "data": {
      "text/plain": [
       "2"
      ]
     },
     "execution_count": 11,
     "metadata": {},
     "output_type": "execute_result"
    }
   ],
   "source": [
    "X['categorical str'].nunique()"
   ]
  },
  {
   "cell_type": "code",
   "execution_count": null,
   "metadata": {},
   "outputs": [],
   "source": [
    "class auto_encoder():\n",
    "    def model(n_features,\n",
    "              )"
   ]
  }
 ],
 "metadata": {
  "kernelspec": {
   "display_name": "Python 3",
   "language": "python",
   "name": "python3"
  },
  "language_info": {
   "codemirror_mode": {
    "name": "ipython",
    "version": 3
   },
   "file_extension": ".py",
   "mimetype": "text/x-python",
   "name": "python",
   "nbconvert_exporter": "python",
   "pygments_lexer": "ipython3",
   "version": "3.7.2"
  },
  "toc": {
   "base_numbering": 1,
   "nav_menu": {},
   "number_sections": true,
   "sideBar": true,
   "skip_h1_title": false,
   "title_cell": "Table of Contents",
   "title_sidebar": "Contents",
   "toc_cell": false,
   "toc_position": {},
   "toc_section_display": true,
   "toc_window_display": false
  }
 },
 "nbformat": 4,
 "nbformat_minor": 2
}
