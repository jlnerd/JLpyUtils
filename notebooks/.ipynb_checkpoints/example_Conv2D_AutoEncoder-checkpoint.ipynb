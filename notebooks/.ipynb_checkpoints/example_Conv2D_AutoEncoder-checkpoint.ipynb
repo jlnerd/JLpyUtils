{
 "cells": [
  {
   "cell_type": "markdown",
   "metadata": {},
   "source": [
    "# Overview"
   ]
  },
  {
   "cell_type": "markdown",
   "metadata": {},
   "source": [
    "In this example we demonstrate the use of the 2D Conv. Net Autoencoder to define an encoding of hand-written digits. You can find more info on the datset in [sklearn's docs](https://scikit-learn.org/stable/datasets/index.html#digits-dataset)"
   ]
  },
  {
   "cell_type": "markdown",
   "metadata": {},
   "source": [
    "# Install Libs"
   ]
  },
  {
   "cell_type": "code",
   "execution_count": 2,
   "metadata": {},
   "outputs": [],
   "source": [
    "!pip install --upgrade JLpyUtils\n",
    "\n",
    "import IPython.display\n",
    "IPython.display.clear_output()"
   ]
  },
  {
   "cell_type": "markdown",
   "metadata": {},
   "source": [
    "# Import Libs"
   ]
  },
  {
   "cell_type": "code",
   "execution_count": 1,
   "metadata": {},
   "outputs": [],
   "source": [
    "import sys, os, shutil\n",
    "import numpy as np\n",
    "import pandas as pd\n",
    "import matplotlib.pyplot as plt\n",
    "import matplotlib as mpl\n",
    "import importlib\n",
    "import sklearn, sklearn.datasets, sklearn.model_selection"
   ]
  },
  {
   "cell_type": "code",
   "execution_count": 2,
   "metadata": {},
   "outputs": [],
   "source": [
    "mpl.rcParams['font.size']=14\n",
    "pd.options.display.max_columns = 1000"
   ]
  },
  {
   "cell_type": "code",
   "execution_count": 4,
   "metadata": {},
   "outputs": [],
   "source": [
    "import JLpyUtils\n",
    "import JLpyUtils.ML.NeuralNet as NN\n",
    "import tensorflow.keras as keras"
   ]
  },
  {
   "cell_type": "code",
   "execution_count": 5,
   "metadata": {},
   "outputs": [
    {
     "data": {
      "text/plain": [
       "'0.3.4'"
      ]
     },
     "execution_count": 5,
     "metadata": {},
     "output_type": "execute_result"
    }
   ],
   "source": [
    "JLpyUtils.__version__"
   ]
  },
  {
   "cell_type": "markdown",
   "metadata": {},
   "source": [
    "# Load Data"
   ]
  },
  {
   "cell_type": "code",
   "execution_count": 15,
   "metadata": {},
   "outputs": [
    {
     "data": {
      "text/plain": [
       "{'data': array([[ 0.,  0.,  5., ...,  0.,  0.,  0.],\n",
       "        [ 0.,  0.,  0., ..., 10.,  0.,  0.],\n",
       "        [ 0.,  0.,  0., ..., 16.,  9.,  0.],\n",
       "        ...,\n",
       "        [ 0.,  0.,  1., ...,  6.,  0.,  0.],\n",
       "        [ 0.,  0.,  2., ..., 12.,  0.,  0.],\n",
       "        [ 0.,  0., 10., ..., 12.,  1.,  0.]]),\n",
       " 'target': array([0, 1, 2, ..., 8, 9, 8]),\n",
       " 'target_names': array([0, 1, 2, 3, 4, 5, 6, 7, 8, 9]),\n",
       " 'images': array([[[ 0.,  0.,  5., ...,  1.,  0.,  0.],\n",
       "         [ 0.,  0., 13., ..., 15.,  5.,  0.],\n",
       "         [ 0.,  3., 15., ..., 11.,  8.,  0.],\n",
       "         ...,\n",
       "         [ 0.,  4., 11., ..., 12.,  7.,  0.],\n",
       "         [ 0.,  2., 14., ..., 12.,  0.,  0.],\n",
       "         [ 0.,  0.,  6., ...,  0.,  0.,  0.]],\n",
       " \n",
       "        [[ 0.,  0.,  0., ...,  5.,  0.,  0.],\n",
       "         [ 0.,  0.,  0., ...,  9.,  0.,  0.],\n",
       "         [ 0.,  0.,  3., ...,  6.,  0.,  0.],\n",
       "         ...,\n",
       "         [ 0.,  0.,  1., ...,  6.,  0.,  0.],\n",
       "         [ 0.,  0.,  1., ...,  6.,  0.,  0.],\n",
       "         [ 0.,  0.,  0., ..., 10.,  0.,  0.]],\n",
       " \n",
       "        [[ 0.,  0.,  0., ..., 12.,  0.,  0.],\n",
       "         [ 0.,  0.,  3., ..., 14.,  0.,  0.],\n",
       "         [ 0.,  0.,  8., ..., 16.,  0.,  0.],\n",
       "         ...,\n",
       "         [ 0.,  9., 16., ...,  0.,  0.,  0.],\n",
       "         [ 0.,  3., 13., ..., 11.,  5.,  0.],\n",
       "         [ 0.,  0.,  0., ..., 16.,  9.,  0.]],\n",
       " \n",
       "        ...,\n",
       " \n",
       "        [[ 0.,  0.,  1., ...,  1.,  0.,  0.],\n",
       "         [ 0.,  0., 13., ...,  2.,  1.,  0.],\n",
       "         [ 0.,  0., 16., ..., 16.,  5.,  0.],\n",
       "         ...,\n",
       "         [ 0.,  0., 16., ..., 15.,  0.,  0.],\n",
       "         [ 0.,  0., 15., ..., 16.,  0.,  0.],\n",
       "         [ 0.,  0.,  2., ...,  6.,  0.,  0.]],\n",
       " \n",
       "        [[ 0.,  0.,  2., ...,  0.,  0.,  0.],\n",
       "         [ 0.,  0., 14., ..., 15.,  1.,  0.],\n",
       "         [ 0.,  4., 16., ..., 16.,  7.,  0.],\n",
       "         ...,\n",
       "         [ 0.,  0.,  0., ..., 16.,  2.,  0.],\n",
       "         [ 0.,  0.,  4., ..., 16.,  2.,  0.],\n",
       "         [ 0.,  0.,  5., ..., 12.,  0.,  0.]],\n",
       " \n",
       "        [[ 0.,  0., 10., ...,  1.,  0.,  0.],\n",
       "         [ 0.,  2., 16., ...,  1.,  0.,  0.],\n",
       "         [ 0.,  0., 15., ..., 15.,  0.,  0.],\n",
       "         ...,\n",
       "         [ 0.,  4., 16., ..., 16.,  6.,  0.],\n",
       "         [ 0.,  8., 16., ..., 16.,  8.,  0.],\n",
       "         [ 0.,  1.,  8., ..., 12.,  1.,  0.]]]),\n",
       " 'DESCR': \".. _digits_dataset:\\n\\nOptical recognition of handwritten digits dataset\\n--------------------------------------------------\\n\\n**Data Set Characteristics:**\\n\\n    :Number of Instances: 5620\\n    :Number of Attributes: 64\\n    :Attribute Information: 8x8 image of integer pixels in the range 0..16.\\n    :Missing Attribute Values: None\\n    :Creator: E. Alpaydin (alpaydin '@' boun.edu.tr)\\n    :Date: July; 1998\\n\\nThis is a copy of the test set of the UCI ML hand-written digits datasets\\nhttps://archive.ics.uci.edu/ml/datasets/Optical+Recognition+of+Handwritten+Digits\\n\\nThe data set contains images of hand-written digits: 10 classes where\\neach class refers to a digit.\\n\\nPreprocessing programs made available by NIST were used to extract\\nnormalized bitmaps of handwritten digits from a preprinted form. From a\\ntotal of 43 people, 30 contributed to the training set and different 13\\nto the test set. 32x32 bitmaps are divided into nonoverlapping blocks of\\n4x4 and the number of on pixels are counted in each block. This generates\\nan input matrix of 8x8 where each element is an integer in the range\\n0..16. This reduces dimensionality and gives invariance to small\\ndistortions.\\n\\nFor info on NIST preprocessing routines, see M. D. Garris, J. L. Blue, G.\\nT. Candela, D. L. Dimmick, J. Geist, P. J. Grother, S. A. Janet, and C.\\nL. Wilson, NIST Form-Based Handprint Recognition System, NISTIR 5469,\\n1994.\\n\\n.. topic:: References\\n\\n  - C. Kaynak (1995) Methods of Combining Multiple Classifiers and Their\\n    Applications to Handwritten Digit Recognition, MSc Thesis, Institute of\\n    Graduate Studies in Science and Engineering, Bogazici University.\\n  - E. Alpaydin, C. Kaynak (1998) Cascading Classifiers, Kybernetika.\\n  - Ken Tang and Ponnuthurai N. Suganthan and Xi Yao and A. Kai Qin.\\n    Linear dimensionalityreduction using relevance weighted LDA. School of\\n    Electrical and Electronic Engineering Nanyang Technological University.\\n    2005.\\n  - Claudio Gentile. A New Approximate Maximal Margin Classification\\n    Algorithm. NIPS. 2000.\"}"
      ]
     },
     "execution_count": 15,
     "metadata": {},
     "output_type": "execute_result"
    }
   ],
   "source": [
    "data_dict = sklearn.datasets.load_digits()\n",
    "data_dict"
   ]
  },
  {
   "cell_type": "markdown",
   "metadata": {},
   "source": [
    "# Inspect Data"
   ]
  },
  {
   "cell_type": "code",
   "execution_count": 90,
   "metadata": {},
   "outputs": [
    {
     "data": {
      "text/plain": [
       "(1797, 8, 8)"
      ]
     },
     "execution_count": 90,
     "metadata": {},
     "output_type": "execute_result"
    }
   ],
   "source": [
    "imgs = data_dict['images']\n",
    "imgs.shape"
   ]
  },
  {
   "cell_type": "code",
   "execution_count": 91,
   "metadata": {},
   "outputs": [
    {
     "data": {
      "image/png": "[encoded data removed]",
      "text/plain": [
       "<Figure size 432x288 with 3 Axes>"
      ]
     },
     "metadata": {},
     "output_type": "display_data"
    },
    {
     "data": {
      "image/png": "[encoded data removed]",
      "text/plain": [
       "<Figure size 432x288 with 3 Axes>"
      ]
     },
     "metadata": {},
     "output_type": "display_data"
    },
    {
     "data": {
      "image/png": "[encoded data removed]",
      "text/plain": [
       "<Figure size 432x288 with 3 Axes>"
      ]
     },
     "metadata": {},
     "output_type": "display_data"
    }
   ],
   "source": [
    "JLpyUtils.plot.imgs.from_list(imgs[:9,:,:], )"
   ]
  },
  {
   "cell_type": "markdown",
   "metadata": {},
   "source": [
    "# Scale"
   ]
  },
  {
   "cell_type": "code",
   "execution_count": 99,
   "metadata": {},
   "outputs": [],
   "source": [
    "imgs = imgs/imgs.max()"
   ]
  },
  {
   "cell_type": "code",
   "execution_count": 100,
   "metadata": {},
   "outputs": [
    {
     "data": {
      "text/plain": [
       "0.0"
      ]
     },
     "execution_count": 100,
     "metadata": {},
     "output_type": "execute_result"
    }
   ],
   "source": [
    "imgs.min()"
   ]
  },
  {
   "cell_type": "code",
   "execution_count": 101,
   "metadata": {},
   "outputs": [
    {
     "data": {
      "text/plain": [
       "1.0"
      ]
     },
     "execution_count": 101,
     "metadata": {},
     "output_type": "execute_result"
    }
   ],
   "source": [
    "imgs.max()"
   ]
  },
  {
   "cell_type": "markdown",
   "metadata": {},
   "source": [
    "# Train Test Split"
   ]
  },
  {
   "cell_type": "code",
   "execution_count": 103,
   "metadata": {},
   "outputs": [
    {
     "name": "stdout",
     "output_type": "stream",
     "text": [
      "(1257, 8, 8) (540, 8, 8)\n"
     ]
    }
   ],
   "source": [
    "X_train, X_test = sklearn.model_selection.train_test_split(imgs, test_size=0.3, random_state = 0)\n",
    "print(X_train.shape,X_test.shape)"
   ]
  },
  {
   "cell_type": "markdown",
   "metadata": {},
   "source": [
    "# Reshape 1D images for input into Conv Net"
   ]
  },
  {
   "cell_type": "code",
   "execution_count": 104,
   "metadata": {},
   "outputs": [],
   "source": [
    "X_train = X_train.reshape(X_train.shape[0], X_train.shape[1], X_train.shape[2], 1)\n",
    "X_test = X_test.reshape(X_test.shape[0], X_test.shape[1], X_test.shape[2], 1)"
   ]
  },
  {
   "cell_type": "markdown",
   "metadata": {},
   "source": [
    "# Instantiate Model"
   ]
  },
  {
   "cell_type": "code",
   "execution_count": 123,
   "metadata": {},
   "outputs": [],
   "source": [
    "model = NN.Conv2D_AutoEncoder.model(img_shape=X_train[0].shape, \n",
    "                                    n_outputs_per_img= 10,\n",
    "                                    initial_filter_size=10,\n",
    "                                    max_filter_size=32,\n",
    "                                    activation='relu',\n",
    "                                    kernel_size=(2,2),\n",
    "                                    dense_scaling_factor=3,\n",
    "                                    loss='mae')"
   ]
  },
  {
   "cell_type": "code",
   "execution_count": 124,
   "metadata": {},
   "outputs": [
    {
     "name": "stdout",
     "output_type": "stream",
     "text": [
      "Model: \"model\"\n",
      "_________________________________________________________________\n",
      "Layer (type)                 Output Shape              Param #   \n",
      "=================================================================\n",
      "inputs (InputLayer)          [(None, 8, 8, 1)]         0         \n",
      "_________________________________________________________________\n",
      "G0_L0_Conv2D (Conv2D)        (None, 8, 8, 10)          100       \n",
      "_________________________________________________________________\n",
      "G0_L1_Pool (MaxPooling2D)    (None, 4, 4, 10)          0         \n",
      "_________________________________________________________________\n",
      "G1_L0_Conv2D (Conv2D)        (None, 4, 4, 20)          1820      \n",
      "_________________________________________________________________\n",
      "G1_L1_Pool (MaxPooling2D)    (None, 2, 2, 20)          0         \n",
      "_________________________________________________________________\n",
      "G2_L0_Flatten (Flatten)      (None, 80)                0         \n",
      "_________________________________________________________________\n",
      "G3_L0_Dense (Dense)          (None, 26)                2106      \n",
      "_________________________________________________________________\n",
      "outputs (Dense)              (None, 10)                270       \n",
      "_________________________________________________________________\n",
      "G0_L0_Dense (Dense)          (None, 26)                286       \n",
      "_________________________________________________________________\n",
      "G1_L0_Flatten (Dense)        (None, 80)                2160      \n",
      "_________________________________________________________________\n",
      "reshape (Reshape)            (None, 2, 2, 20)          0         \n",
      "_________________________________________________________________\n",
      "G2_L1_Conv2D (Conv2DTranspos (None, 4, 4, 20)          3620      \n",
      "_________________________________________________________________\n",
      "G3_L0_Pool (Conv2DTranspose) (None, 4, 4, 10)          1810      \n",
      "_________________________________________________________________\n",
      "G3_L1_Conv2D (Conv2DTranspos (None, 8, 8, 10)          910       \n",
      "_________________________________________________________________\n",
      "decoder_outputs (Conv2DTrans (None, 8, 8, 1)           91        \n",
      "=================================================================\n",
      "Total params: 13,173\n",
      "Trainable params: 13,173\n",
      "Non-trainable params: 0\n",
      "_________________________________________________________________\n"
     ]
    }
   ],
   "source": [
    "model.summary()"
   ]
  },
  {
   "cell_type": "markdown",
   "metadata": {},
   "source": [
    "# Train the Model"
   ]
  },
  {
   "cell_type": "code",
   "execution_count": 125,
   "metadata": {},
   "outputs": [],
   "source": [
    "callbacks = [keras.callbacks.EarlyStopping(restore_best_weights=True, \n",
    "                                           min_delta=0.001, \n",
    "                                           patience=100)]"
   ]
  },
  {
   "cell_type": "code",
   "execution_count": 127,
   "metadata": {},
   "outputs": [
    {
     "name": "stdout",
     "output_type": "stream",
     "text": [
      "Train on 1257 samples, validate on 540 samples\n",
      "Epoch 1/1000\n",
      "1257/1257 - 0s - loss: 0.0843 - val_loss: 0.0908\n",
      "Epoch 2/1000\n",
      "1257/1257 - 0s - loss: 0.0835 - val_loss: 0.0905\n",
      "Epoch 3/1000\n",
      "1257/1257 - 0s - loss: 0.0835 - val_loss: 0.0899\n",
      "Epoch 4/1000\n",
      "1257/1257 - 0s - loss: 0.0834 - val_loss: 0.0895\n",
      "Epoch 5/1000\n",
      "1257/1257 - 0s - loss: 0.0829 - val_loss: 0.0897\n",
      "Epoch 6/1000\n",
      "1257/1257 - 0s - loss: 0.0830 - val_loss: 0.0896\n",
      "Epoch 7/1000\n",
      "1257/1257 - 0s - loss: 0.0826 - val_loss: 0.0895\n",
      "Epoch 8/1000\n",
      "1257/1257 - 0s - loss: 0.0826 - val_loss: 0.0899\n",
      "Epoch 9/1000\n",
      "1257/1257 - 0s - loss: 0.0832 - val_loss: 0.0895\n",
      "Epoch 10/1000\n",
      "1257/1257 - 0s - loss: 0.0821 - val_loss: 0.0887\n",
      "Epoch 11/1000\n",
      "1257/1257 - 0s - loss: 0.0815 - val_loss: 0.0887\n",
      "Epoch 12/1000\n",
      "1257/1257 - 0s - loss: 0.0813 - val_loss: 0.0881\n",
      "Epoch 13/1000\n",
      "1257/1257 - 0s - loss: 0.0809 - val_loss: 0.0871\n",
      "Epoch 14/1000\n",
      "1257/1257 - 0s - loss: 0.0806 - val_loss: 0.0871\n",
      "Epoch 15/1000\n",
      "1257/1257 - 0s - loss: 0.0804 - val_loss: 0.0879\n",
      "Epoch 16/1000\n",
      "1257/1257 - 0s - loss: 0.0805 - val_loss: 0.0868\n",
      "Epoch 17/1000\n",
      "1257/1257 - 0s - loss: 0.0799 - val_loss: 0.0870\n",
      "Epoch 18/1000\n",
      "1257/1257 - 0s - loss: 0.0795 - val_loss: 0.0857\n",
      "Epoch 19/1000\n",
      "1257/1257 - 0s - loss: 0.0794 - val_loss: 0.0864\n",
      "Epoch 20/1000\n",
      "1257/1257 - 0s - loss: 0.0789 - val_loss: 0.0859\n",
      "Epoch 21/1000\n",
      "1257/1257 - 0s - loss: 0.0794 - val_loss: 0.0858\n",
      "Epoch 22/1000\n",
      "1257/1257 - 0s - loss: 0.0786 - val_loss: 0.0862\n",
      "Epoch 23/1000\n",
      "1257/1257 - 0s - loss: 0.0790 - val_loss: 0.0859\n",
      "Epoch 24/1000\n",
      "1257/1257 - 0s - loss: 0.0784 - val_loss: 0.0856\n",
      "Epoch 25/1000\n",
      "1257/1257 - 0s - loss: 0.0781 - val_loss: 0.0845\n",
      "Epoch 26/1000\n",
      "1257/1257 - 0s - loss: 0.0775 - val_loss: 0.0841\n",
      "Epoch 27/1000\n",
      "1257/1257 - 0s - loss: 0.0778 - val_loss: 0.0840\n",
      "Epoch 28/1000\n",
      "1257/1257 - 0s - loss: 0.0773 - val_loss: 0.0843\n",
      "Epoch 29/1000\n",
      "1257/1257 - 0s - loss: 0.0772 - val_loss: 0.0835\n",
      "Epoch 30/1000\n",
      "1257/1257 - 0s - loss: 0.0768 - val_loss: 0.0830\n",
      "Epoch 31/1000\n",
      "1257/1257 - 0s - loss: 0.0764 - val_loss: 0.0832\n",
      "Epoch 32/1000\n",
      "1257/1257 - 0s - loss: 0.0761 - val_loss: 0.0835\n",
      "Epoch 33/1000\n",
      "1257/1257 - 0s - loss: 0.0758 - val_loss: 0.0826\n",
      "Epoch 34/1000\n",
      "1257/1257 - 0s - loss: 0.0756 - val_loss: 0.0826\n",
      "Epoch 35/1000\n",
      "1257/1257 - 0s - loss: 0.0760 - val_loss: 0.0830\n",
      "Epoch 36/1000\n",
      "1257/1257 - 0s - loss: 0.0760 - val_loss: 0.0823\n",
      "Epoch 37/1000\n",
      "1257/1257 - 0s - loss: 0.0753 - val_loss: 0.0817\n",
      "Epoch 38/1000\n",
      "1257/1257 - 0s - loss: 0.0747 - val_loss: 0.0820\n",
      "Epoch 39/1000\n",
      "1257/1257 - 0s - loss: 0.0749 - val_loss: 0.0812\n",
      "Epoch 40/1000\n",
      "1257/1257 - 0s - loss: 0.0746 - val_loss: 0.0820\n",
      "Epoch 41/1000\n",
      "1257/1257 - 0s - loss: 0.0744 - val_loss: 0.0812\n",
      "Epoch 42/1000\n",
      "1257/1257 - 0s - loss: 0.0744 - val_loss: 0.0817\n",
      "Epoch 43/1000\n",
      "1257/1257 - 0s - loss: 0.0749 - val_loss: 0.0817\n",
      "Epoch 44/1000\n",
      "1257/1257 - 0s - loss: 0.0741 - val_loss: 0.0808\n",
      "Epoch 45/1000\n",
      "1257/1257 - 0s - loss: 0.0737 - val_loss: 0.0807\n",
      "Epoch 46/1000\n",
      "1257/1257 - 0s - loss: 0.0735 - val_loss: 0.0804\n",
      "Epoch 47/1000\n",
      "1257/1257 - 0s - loss: 0.0739 - val_loss: 0.0810\n",
      "Epoch 48/1000\n",
      "1257/1257 - 0s - loss: 0.0737 - val_loss: 0.0810\n",
      "Epoch 49/1000\n",
      "1257/1257 - 0s - loss: 0.0733 - val_loss: 0.0799\n",
      "Epoch 50/1000\n",
      "1257/1257 - 0s - loss: 0.0732 - val_loss: 0.0799\n",
      "Epoch 51/1000\n",
      "1257/1257 - 0s - loss: 0.0729 - val_loss: 0.0797\n",
      "Epoch 52/1000\n",
      "1257/1257 - 0s - loss: 0.0725 - val_loss: 0.0790\n",
      "Epoch 53/1000\n",
      "1257/1257 - 0s - loss: 0.0724 - val_loss: 0.0792\n",
      "Epoch 54/1000\n",
      "1257/1257 - 0s - loss: 0.0720 - val_loss: 0.0796\n",
      "Epoch 55/1000\n",
      "1257/1257 - 0s - loss: 0.0727 - val_loss: 0.0795\n",
      "Epoch 56/1000\n",
      "1257/1257 - 0s - loss: 0.0725 - val_loss: 0.0798\n",
      "Epoch 57/1000\n",
      "1257/1257 - 0s - loss: 0.0724 - val_loss: 0.0797\n",
      "Epoch 58/1000\n",
      "1257/1257 - 0s - loss: 0.0722 - val_loss: 0.0784\n",
      "Epoch 59/1000\n",
      "1257/1257 - 0s - loss: 0.0719 - val_loss: 0.0791\n",
      "Epoch 60/1000\n",
      "1257/1257 - 0s - loss: 0.0719 - val_loss: 0.0793\n",
      "Epoch 61/1000\n",
      "1257/1257 - 0s - loss: 0.0716 - val_loss: 0.0792\n",
      "Epoch 62/1000\n",
      "1257/1257 - 0s - loss: 0.0718 - val_loss: 0.0788\n",
      "Epoch 63/1000\n",
      "1257/1257 - 0s - loss: 0.0711 - val_loss: 0.0788\n",
      "Epoch 64/1000\n",
      "1257/1257 - 0s - loss: 0.0715 - val_loss: 0.0784\n",
      "Epoch 65/1000\n",
      "1257/1257 - 0s - loss: 0.0710 - val_loss: 0.0787\n",
      "Epoch 66/1000\n",
      "1257/1257 - 0s - loss: 0.0709 - val_loss: 0.0784\n",
      "Epoch 67/1000\n",
      "1257/1257 - 0s - loss: 0.0708 - val_loss: 0.0782\n",
      "Epoch 68/1000\n",
      "1257/1257 - 0s - loss: 0.0710 - val_loss: 0.0787\n",
      "Epoch 69/1000\n",
      "1257/1257 - 0s - loss: 0.0711 - val_loss: 0.0788\n",
      "Epoch 70/1000\n",
      "1257/1257 - 0s - loss: 0.0707 - val_loss: 0.0790\n",
      "Epoch 71/1000\n",
      "1257/1257 - 0s - loss: 0.0708 - val_loss: 0.0781\n",
      "Epoch 72/1000\n",
      "1257/1257 - 0s - loss: 0.0706 - val_loss: 0.0778\n",
      "Epoch 73/1000\n",
      "1257/1257 - 0s - loss: 0.0701 - val_loss: 0.0783\n",
      "Epoch 74/1000\n",
      "1257/1257 - 0s - loss: 0.0708 - val_loss: 0.0780\n",
      "Epoch 75/1000\n",
      "1257/1257 - 0s - loss: 0.0704 - val_loss: 0.0775\n",
      "Epoch 76/1000\n",
      "1257/1257 - 0s - loss: 0.0703 - val_loss: 0.0787\n",
      "Epoch 77/1000\n",
      "1257/1257 - 0s - loss: 0.0704 - val_loss: 0.0776\n",
      "Epoch 78/1000\n",
      "1257/1257 - 0s - loss: 0.0698 - val_loss: 0.0771\n",
      "Epoch 79/1000\n",
      "1257/1257 - 0s - loss: 0.0698 - val_loss: 0.0771\n",
      "Epoch 80/1000\n",
      "1257/1257 - 0s - loss: 0.0698 - val_loss: 0.0773\n",
      "Epoch 81/1000\n",
      "1257/1257 - 0s - loss: 0.0696 - val_loss: 0.0772\n",
      "Epoch 82/1000\n",
      "1257/1257 - 0s - loss: 0.0698 - val_loss: 0.0775\n",
      "Epoch 83/1000\n",
      "1257/1257 - 0s - loss: 0.0697 - val_loss: 0.0769\n",
      "Epoch 84/1000\n",
      "1257/1257 - 0s - loss: 0.0692 - val_loss: 0.0765\n",
      "Epoch 85/1000\n",
      "1257/1257 - 0s - loss: 0.0692 - val_loss: 0.0773\n",
      "Epoch 86/1000\n",
      "1257/1257 - 0s - loss: 0.0696 - val_loss: 0.0771\n",
      "Epoch 87/1000\n",
      "1257/1257 - 0s - loss: 0.0691 - val_loss: 0.0764\n",
      "Epoch 88/1000\n",
      "1257/1257 - 0s - loss: 0.0690 - val_loss: 0.0766\n",
      "Epoch 89/1000\n",
      "1257/1257 - 0s - loss: 0.0694 - val_loss: 0.0767\n",
      "Epoch 90/1000\n",
      "1257/1257 - 0s - loss: 0.0691 - val_loss: 0.0768\n",
      "Epoch 91/1000\n",
      "1257/1257 - 0s - loss: 0.0692 - val_loss: 0.0769\n",
      "Epoch 92/1000\n",
      "1257/1257 - 0s - loss: 0.0691 - val_loss: 0.0769\n",
      "Epoch 93/1000\n",
      "1257/1257 - 0s - loss: 0.0689 - val_loss: 0.0765\n",
      "Epoch 94/1000\n",
      "1257/1257 - 0s - loss: 0.0689 - val_loss: 0.0784\n",
      "Epoch 95/1000\n",
      "1257/1257 - 0s - loss: 0.0690 - val_loss: 0.0769\n",
      "Epoch 96/1000\n",
      "1257/1257 - 0s - loss: 0.0687 - val_loss: 0.0760\n",
      "Epoch 97/1000\n",
      "1257/1257 - 0s - loss: 0.0687 - val_loss: 0.0763\n",
      "Epoch 98/1000\n",
      "1257/1257 - 0s - loss: 0.0691 - val_loss: 0.0762\n",
      "Epoch 99/1000\n",
      "1257/1257 - 0s - loss: 0.0684 - val_loss: 0.0765\n",
      "Epoch 100/1000\n",
      "1257/1257 - 0s - loss: 0.0683 - val_loss: 0.0761\n",
      "Epoch 101/1000\n",
      "1257/1257 - 0s - loss: 0.0683 - val_loss: 0.0758\n",
      "Epoch 102/1000\n",
      "1257/1257 - 0s - loss: 0.0681 - val_loss: 0.0762\n",
      "Epoch 103/1000\n",
      "1257/1257 - 0s - loss: 0.0682 - val_loss: 0.0757\n",
      "Epoch 104/1000\n",
      "1257/1257 - 0s - loss: 0.0677 - val_loss: 0.0756\n",
      "Epoch 105/1000\n",
      "1257/1257 - 0s - loss: 0.0679 - val_loss: 0.0763\n",
      "Epoch 106/1000\n",
      "1257/1257 - 0s - loss: 0.0678 - val_loss: 0.0765\n",
      "Epoch 107/1000\n",
      "1257/1257 - 0s - loss: 0.0681 - val_loss: 0.0757\n",
      "Epoch 108/1000\n",
      "1257/1257 - 0s - loss: 0.0674 - val_loss: 0.0755\n",
      "Epoch 109/1000\n",
      "1257/1257 - 0s - loss: 0.0679 - val_loss: 0.0769\n",
      "Epoch 110/1000\n",
      "1257/1257 - 0s - loss: 0.0683 - val_loss: 0.0757\n",
      "Epoch 111/1000\n",
      "1257/1257 - 0s - loss: 0.0678 - val_loss: 0.0756\n",
      "Epoch 112/1000\n",
      "1257/1257 - 0s - loss: 0.0675 - val_loss: 0.0756\n",
      "Epoch 113/1000\n",
      "1257/1257 - 0s - loss: 0.0675 - val_loss: 0.0756\n",
      "Epoch 114/1000\n",
      "1257/1257 - 0s - loss: 0.0677 - val_loss: 0.0754\n",
      "Epoch 115/1000\n",
      "1257/1257 - 0s - loss: 0.0681 - val_loss: 0.0765\n",
      "Epoch 116/1000\n",
      "1257/1257 - 0s - loss: 0.0674 - val_loss: 0.0759\n",
      "Epoch 117/1000\n",
      "1257/1257 - 0s - loss: 0.0673 - val_loss: 0.0749\n",
      "Epoch 118/1000\n",
      "1257/1257 - 0s - loss: 0.0675 - val_loss: 0.0758\n",
      "Epoch 119/1000\n",
      "1257/1257 - 0s - loss: 0.0672 - val_loss: 0.0753\n",
      "Epoch 120/1000\n",
      "1257/1257 - 0s - loss: 0.0667 - val_loss: 0.0752\n",
      "Epoch 121/1000\n",
      "1257/1257 - 0s - loss: 0.0668 - val_loss: 0.0753\n",
      "Epoch 122/1000\n",
      "1257/1257 - 0s - loss: 0.0669 - val_loss: 0.0756\n",
      "Epoch 123/1000\n",
      "1257/1257 - 0s - loss: 0.0666 - val_loss: 0.0748\n",
      "Epoch 124/1000\n",
      "1257/1257 - 0s - loss: 0.0667 - val_loss: 0.0764\n",
      "Epoch 125/1000\n",
      "1257/1257 - 0s - loss: 0.0672 - val_loss: 0.0755\n",
      "Epoch 126/1000\n",
      "1257/1257 - 0s - loss: 0.0672 - val_loss: 0.0760\n",
      "Epoch 127/1000\n",
      "1257/1257 - 0s - loss: 0.0674 - val_loss: 0.0750\n",
      "Epoch 128/1000\n",
      "1257/1257 - 0s - loss: 0.0666 - val_loss: 0.0752\n",
      "Epoch 129/1000\n",
      "1257/1257 - 0s - loss: 0.0672 - val_loss: 0.0751\n"
     ]
    },
    {
     "name": "stdout",
     "output_type": "stream",
     "text": [
      "Epoch 130/1000\n",
      "1257/1257 - 0s - loss: 0.0671 - val_loss: 0.0750\n",
      "Epoch 131/1000\n",
      "1257/1257 - 0s - loss: 0.0666 - val_loss: 0.0751\n",
      "Epoch 132/1000\n",
      "1257/1257 - 0s - loss: 0.0665 - val_loss: 0.0746\n",
      "Epoch 133/1000\n",
      "1257/1257 - 0s - loss: 0.0666 - val_loss: 0.0753\n",
      "Epoch 134/1000\n",
      "1257/1257 - 0s - loss: 0.0666 - val_loss: 0.0753\n",
      "Epoch 135/1000\n",
      "1257/1257 - 0s - loss: 0.0665 - val_loss: 0.0741\n",
      "Epoch 136/1000\n",
      "1257/1257 - 0s - loss: 0.0663 - val_loss: 0.0751\n",
      "Epoch 137/1000\n",
      "1257/1257 - 0s - loss: 0.0668 - val_loss: 0.0747\n",
      "Epoch 138/1000\n",
      "1257/1257 - 0s - loss: 0.0664 - val_loss: 0.0747\n",
      "Epoch 139/1000\n",
      "1257/1257 - 0s - loss: 0.0663 - val_loss: 0.0745\n",
      "Epoch 140/1000\n",
      "1257/1257 - 0s - loss: 0.0658 - val_loss: 0.0744\n",
      "Epoch 141/1000\n",
      "1257/1257 - 0s - loss: 0.0658 - val_loss: 0.0741\n",
      "Epoch 142/1000\n",
      "1257/1257 - 0s - loss: 0.0657 - val_loss: 0.0749\n",
      "Epoch 143/1000\n",
      "1257/1257 - 0s - loss: 0.0659 - val_loss: 0.0749\n",
      "Epoch 144/1000\n",
      "1257/1257 - 0s - loss: 0.0661 - val_loss: 0.0749\n",
      "Epoch 145/1000\n",
      "1257/1257 - 0s - loss: 0.0658 - val_loss: 0.0743\n",
      "Epoch 146/1000\n",
      "1257/1257 - 0s - loss: 0.0662 - val_loss: 0.0745\n",
      "Epoch 147/1000\n",
      "1257/1257 - 0s - loss: 0.0661 - val_loss: 0.0742\n",
      "Epoch 148/1000\n",
      "1257/1257 - 0s - loss: 0.0661 - val_loss: 0.0748\n",
      "Epoch 149/1000\n",
      "1257/1257 - 0s - loss: 0.0662 - val_loss: 0.0753\n",
      "Epoch 150/1000\n",
      "1257/1257 - 0s - loss: 0.0661 - val_loss: 0.0741\n",
      "Epoch 151/1000\n",
      "1257/1257 - 0s - loss: 0.0655 - val_loss: 0.0742\n",
      "Epoch 152/1000\n",
      "1257/1257 - 0s - loss: 0.0655 - val_loss: 0.0738\n",
      "Epoch 153/1000\n",
      "1257/1257 - 0s - loss: 0.0652 - val_loss: 0.0740\n",
      "Epoch 154/1000\n",
      "1257/1257 - 0s - loss: 0.0653 - val_loss: 0.0740\n",
      "Epoch 155/1000\n",
      "1257/1257 - 0s - loss: 0.0653 - val_loss: 0.0746\n",
      "Epoch 156/1000\n",
      "1257/1257 - 0s - loss: 0.0654 - val_loss: 0.0740\n",
      "Epoch 157/1000\n",
      "1257/1257 - 0s - loss: 0.0651 - val_loss: 0.0741\n",
      "Epoch 158/1000\n",
      "1257/1257 - 0s - loss: 0.0655 - val_loss: 0.0741\n",
      "Epoch 159/1000\n",
      "1257/1257 - 0s - loss: 0.0646 - val_loss: 0.0735\n",
      "Epoch 160/1000\n",
      "1257/1257 - 0s - loss: 0.0649 - val_loss: 0.0743\n",
      "Epoch 161/1000\n",
      "1257/1257 - 0s - loss: 0.0649 - val_loss: 0.0738\n",
      "Epoch 162/1000\n",
      "1257/1257 - 0s - loss: 0.0647 - val_loss: 0.0739\n",
      "Epoch 163/1000\n",
      "1257/1257 - 0s - loss: 0.0647 - val_loss: 0.0740\n",
      "Epoch 164/1000\n",
      "1257/1257 - 0s - loss: 0.0646 - val_loss: 0.0739\n",
      "Epoch 165/1000\n",
      "1257/1257 - 0s - loss: 0.0650 - val_loss: 0.0738\n",
      "Epoch 166/1000\n",
      "1257/1257 - 0s - loss: 0.0646 - val_loss: 0.0739\n",
      "Epoch 167/1000\n",
      "1257/1257 - 0s - loss: 0.0650 - val_loss: 0.0737\n",
      "Epoch 168/1000\n",
      "1257/1257 - 0s - loss: 0.0646 - val_loss: 0.0735\n",
      "Epoch 169/1000\n",
      "1257/1257 - 0s - loss: 0.0645 - val_loss: 0.0734\n",
      "Epoch 170/1000\n",
      "1257/1257 - 0s - loss: 0.0646 - val_loss: 0.0743\n",
      "Epoch 171/1000\n",
      "1257/1257 - 0s - loss: 0.0651 - val_loss: 0.0742\n",
      "Epoch 172/1000\n",
      "1257/1257 - 0s - loss: 0.0656 - val_loss: 0.0749\n",
      "Epoch 173/1000\n",
      "1257/1257 - 0s - loss: 0.0651 - val_loss: 0.0736\n",
      "Epoch 174/1000\n",
      "1257/1257 - 0s - loss: 0.0644 - val_loss: 0.0732\n",
      "Epoch 175/1000\n",
      "1257/1257 - 0s - loss: 0.0642 - val_loss: 0.0736\n",
      "Epoch 176/1000\n",
      "1257/1257 - 0s - loss: 0.0647 - val_loss: 0.0733\n",
      "Epoch 177/1000\n",
      "1257/1257 - 0s - loss: 0.0643 - val_loss: 0.0737\n",
      "Epoch 178/1000\n",
      "1257/1257 - 0s - loss: 0.0642 - val_loss: 0.0736\n",
      "Epoch 179/1000\n",
      "1257/1257 - 0s - loss: 0.0642 - val_loss: 0.0735\n",
      "Epoch 180/1000\n",
      "1257/1257 - 0s - loss: 0.0642 - val_loss: 0.0732\n",
      "Epoch 181/1000\n",
      "1257/1257 - 0s - loss: 0.0642 - val_loss: 0.0736\n",
      "Epoch 182/1000\n",
      "1257/1257 - 0s - loss: 0.0641 - val_loss: 0.0732\n",
      "Epoch 183/1000\n",
      "1257/1257 - 0s - loss: 0.0642 - val_loss: 0.0733\n",
      "Epoch 184/1000\n",
      "1257/1257 - 0s - loss: 0.0637 - val_loss: 0.0730\n",
      "Epoch 185/1000\n",
      "1257/1257 - 0s - loss: 0.0636 - val_loss: 0.0734\n",
      "Epoch 186/1000\n",
      "1257/1257 - 0s - loss: 0.0640 - val_loss: 0.0733\n",
      "Epoch 187/1000\n",
      "1257/1257 - 0s - loss: 0.0641 - val_loss: 0.0735\n",
      "Epoch 188/1000\n",
      "1257/1257 - 0s - loss: 0.0638 - val_loss: 0.0730\n",
      "Epoch 189/1000\n",
      "1257/1257 - 0s - loss: 0.0641 - val_loss: 0.0730\n",
      "Epoch 190/1000\n",
      "1257/1257 - 0s - loss: 0.0637 - val_loss: 0.0729\n",
      "Epoch 191/1000\n",
      "1257/1257 - 0s - loss: 0.0635 - val_loss: 0.0730\n",
      "Epoch 192/1000\n",
      "1257/1257 - 0s - loss: 0.0636 - val_loss: 0.0728\n",
      "Epoch 193/1000\n",
      "1257/1257 - 0s - loss: 0.0636 - val_loss: 0.0728\n",
      "Epoch 194/1000\n",
      "1257/1257 - 0s - loss: 0.0637 - val_loss: 0.0735\n",
      "Epoch 195/1000\n",
      "1257/1257 - 0s - loss: 0.0635 - val_loss: 0.0731\n",
      "Epoch 196/1000\n",
      "1257/1257 - 0s - loss: 0.0639 - val_loss: 0.0725\n",
      "Epoch 197/1000\n",
      "1257/1257 - 0s - loss: 0.0634 - val_loss: 0.0731\n",
      "Epoch 198/1000\n",
      "1257/1257 - 0s - loss: 0.0638 - val_loss: 0.0724\n",
      "Epoch 199/1000\n",
      "1257/1257 - 0s - loss: 0.0634 - val_loss: 0.0735\n",
      "Epoch 200/1000\n",
      "1257/1257 - 0s - loss: 0.0635 - val_loss: 0.0727\n",
      "Epoch 201/1000\n",
      "1257/1257 - 0s - loss: 0.0630 - val_loss: 0.0730\n",
      "Epoch 202/1000\n",
      "1257/1257 - 0s - loss: 0.0635 - val_loss: 0.0731\n",
      "Epoch 203/1000\n",
      "1257/1257 - 0s - loss: 0.0632 - val_loss: 0.0724\n",
      "Epoch 204/1000\n",
      "1257/1257 - 0s - loss: 0.0632 - val_loss: 0.0726\n",
      "Epoch 205/1000\n",
      "1257/1257 - 0s - loss: 0.0633 - val_loss: 0.0728\n",
      "Epoch 206/1000\n",
      "1257/1257 - 0s - loss: 0.0632 - val_loss: 0.0727\n",
      "Epoch 207/1000\n",
      "1257/1257 - 0s - loss: 0.0633 - val_loss: 0.0728\n",
      "Epoch 208/1000\n",
      "1257/1257 - 0s - loss: 0.0632 - val_loss: 0.0725\n",
      "Epoch 209/1000\n",
      "1257/1257 - 0s - loss: 0.0637 - val_loss: 0.0737\n",
      "Epoch 210/1000\n",
      "1257/1257 - 0s - loss: 0.0633 - val_loss: 0.0735\n",
      "Epoch 211/1000\n",
      "1257/1257 - 0s - loss: 0.0631 - val_loss: 0.0724\n",
      "Epoch 212/1000\n",
      "1257/1257 - 0s - loss: 0.0631 - val_loss: 0.0727\n",
      "Epoch 213/1000\n",
      "1257/1257 - 0s - loss: 0.0631 - val_loss: 0.0725\n",
      "Epoch 214/1000\n",
      "1257/1257 - 0s - loss: 0.0627 - val_loss: 0.0723\n",
      "Epoch 215/1000\n",
      "1257/1257 - 0s - loss: 0.0629 - val_loss: 0.0725\n",
      "Epoch 216/1000\n",
      "1257/1257 - 0s - loss: 0.0624 - val_loss: 0.0724\n",
      "Epoch 217/1000\n",
      "1257/1257 - 0s - loss: 0.0627 - val_loss: 0.0728\n",
      "Epoch 218/1000\n",
      "1257/1257 - 0s - loss: 0.0629 - val_loss: 0.0728\n",
      "Epoch 219/1000\n",
      "1257/1257 - 0s - loss: 0.0628 - val_loss: 0.0727\n",
      "Epoch 220/1000\n",
      "1257/1257 - 0s - loss: 0.0629 - val_loss: 0.0734\n",
      "Epoch 221/1000\n",
      "1257/1257 - 0s - loss: 0.0631 - val_loss: 0.0724\n",
      "Epoch 222/1000\n",
      "1257/1257 - 0s - loss: 0.0629 - val_loss: 0.0733\n",
      "Epoch 223/1000\n",
      "1257/1257 - 0s - loss: 0.0627 - val_loss: 0.0722\n",
      "Epoch 224/1000\n",
      "1257/1257 - 0s - loss: 0.0628 - val_loss: 0.0732\n",
      "Epoch 225/1000\n",
      "1257/1257 - 0s - loss: 0.0630 - val_loss: 0.0720\n",
      "Epoch 226/1000\n",
      "1257/1257 - 0s - loss: 0.0626 - val_loss: 0.0730\n",
      "Epoch 227/1000\n",
      "1257/1257 - 0s - loss: 0.0625 - val_loss: 0.0722\n",
      "Epoch 228/1000\n",
      "1257/1257 - 0s - loss: 0.0620 - val_loss: 0.0730\n",
      "Epoch 229/1000\n",
      "1257/1257 - 0s - loss: 0.0625 - val_loss: 0.0723\n",
      "Epoch 230/1000\n",
      "1257/1257 - 0s - loss: 0.0622 - val_loss: 0.0721\n",
      "Epoch 231/1000\n",
      "1257/1257 - 0s - loss: 0.0621 - val_loss: 0.0718\n",
      "Epoch 232/1000\n",
      "1257/1257 - 0s - loss: 0.0619 - val_loss: 0.0719\n",
      "Epoch 233/1000\n",
      "1257/1257 - 0s - loss: 0.0623 - val_loss: 0.0725\n",
      "Epoch 234/1000\n",
      "1257/1257 - 0s - loss: 0.0627 - val_loss: 0.0722\n",
      "Epoch 235/1000\n",
      "1257/1257 - 0s - loss: 0.0626 - val_loss: 0.0726\n",
      "Epoch 236/1000\n",
      "1257/1257 - 0s - loss: 0.0620 - val_loss: 0.0730\n",
      "Epoch 237/1000\n",
      "1257/1257 - 0s - loss: 0.0620 - val_loss: 0.0720\n",
      "Epoch 238/1000\n",
      "1257/1257 - 0s - loss: 0.0621 - val_loss: 0.0717\n",
      "Epoch 239/1000\n",
      "1257/1257 - 0s - loss: 0.0619 - val_loss: 0.0720\n",
      "Epoch 240/1000\n",
      "1257/1257 - 0s - loss: 0.0618 - val_loss: 0.0725\n",
      "Epoch 241/1000\n",
      "1257/1257 - 0s - loss: 0.0618 - val_loss: 0.0721\n",
      "Epoch 242/1000\n",
      "1257/1257 - 0s - loss: 0.0621 - val_loss: 0.0720\n",
      "Epoch 243/1000\n",
      "1257/1257 - 0s - loss: 0.0618 - val_loss: 0.0716\n",
      "Epoch 244/1000\n",
      "1257/1257 - 0s - loss: 0.0617 - val_loss: 0.0719\n",
      "Epoch 245/1000\n",
      "1257/1257 - 0s - loss: 0.0618 - val_loss: 0.0725\n",
      "Epoch 246/1000\n",
      "1257/1257 - 0s - loss: 0.0616 - val_loss: 0.0718\n",
      "Epoch 247/1000\n",
      "1257/1257 - 0s - loss: 0.0618 - val_loss: 0.0719\n",
      "Epoch 248/1000\n",
      "1257/1257 - 0s - loss: 0.0617 - val_loss: 0.0724\n",
      "Epoch 249/1000\n",
      "1257/1257 - 0s - loss: 0.0618 - val_loss: 0.0716\n",
      "Epoch 250/1000\n",
      "1257/1257 - 0s - loss: 0.0615 - val_loss: 0.0717\n",
      "Epoch 251/1000\n",
      "1257/1257 - 0s - loss: 0.0614 - val_loss: 0.0722\n",
      "Epoch 252/1000\n",
      "1257/1257 - 0s - loss: 0.0617 - val_loss: 0.0720\n",
      "Epoch 253/1000\n",
      "1257/1257 - 0s - loss: 0.0619 - val_loss: 0.0720\n",
      "Epoch 254/1000\n",
      "1257/1257 - 0s - loss: 0.0622 - val_loss: 0.0717\n",
      "Epoch 255/1000\n",
      "1257/1257 - 0s - loss: 0.0617 - val_loss: 0.0722\n",
      "Epoch 256/1000\n",
      "1257/1257 - 0s - loss: 0.0615 - val_loss: 0.0724\n",
      "Epoch 257/1000\n",
      "1257/1257 - 0s - loss: 0.0620 - val_loss: 0.0716\n",
      "Epoch 258/1000\n"
     ]
    },
    {
     "name": "stdout",
     "output_type": "stream",
     "text": [
      "1257/1257 - 0s - loss: 0.0617 - val_loss: 0.0725\n",
      "Epoch 259/1000\n",
      "1257/1257 - 0s - loss: 0.0620 - val_loss: 0.0721\n",
      "Epoch 260/1000\n",
      "1257/1257 - 0s - loss: 0.0617 - val_loss: 0.0723\n",
      "Epoch 261/1000\n",
      "1257/1257 - 0s - loss: 0.0616 - val_loss: 0.0721\n",
      "Epoch 262/1000\n",
      "1257/1257 - 0s - loss: 0.0619 - val_loss: 0.0721\n",
      "Epoch 263/1000\n",
      "1257/1257 - 0s - loss: 0.0616 - val_loss: 0.0718\n",
      "Epoch 264/1000\n",
      "1257/1257 - 0s - loss: 0.0617 - val_loss: 0.0720\n",
      "Epoch 265/1000\n",
      "1257/1257 - 0s - loss: 0.0614 - val_loss: 0.0716\n",
      "Epoch 266/1000\n",
      "1257/1257 - 0s - loss: 0.0613 - val_loss: 0.0714\n",
      "Epoch 267/1000\n",
      "1257/1257 - 0s - loss: 0.0610 - val_loss: 0.0716\n",
      "Epoch 268/1000\n",
      "1257/1257 - 0s - loss: 0.0612 - val_loss: 0.0713\n",
      "Epoch 269/1000\n",
      "1257/1257 - 0s - loss: 0.0610 - val_loss: 0.0719\n",
      "Epoch 270/1000\n",
      "1257/1257 - 0s - loss: 0.0610 - val_loss: 0.0714\n",
      "Epoch 271/1000\n",
      "1257/1257 - 0s - loss: 0.0608 - val_loss: 0.0725\n",
      "Epoch 272/1000\n",
      "1257/1257 - 0s - loss: 0.0615 - val_loss: 0.0714\n",
      "Epoch 273/1000\n",
      "1257/1257 - 0s - loss: 0.0608 - val_loss: 0.0718\n",
      "Epoch 274/1000\n",
      "1257/1257 - 0s - loss: 0.0608 - val_loss: 0.0716\n",
      "Epoch 275/1000\n",
      "1257/1257 - 0s - loss: 0.0613 - val_loss: 0.0713\n",
      "Epoch 276/1000\n",
      "1257/1257 - 0s - loss: 0.0610 - val_loss: 0.0715\n",
      "Epoch 277/1000\n",
      "1257/1257 - 0s - loss: 0.0610 - val_loss: 0.0718\n",
      "Epoch 278/1000\n",
      "1257/1257 - 0s - loss: 0.0609 - val_loss: 0.0711\n",
      "Epoch 279/1000\n",
      "1257/1257 - 0s - loss: 0.0607 - val_loss: 0.0711\n",
      "Epoch 280/1000\n",
      "1257/1257 - 0s - loss: 0.0609 - val_loss: 0.0716\n",
      "Epoch 281/1000\n",
      "1257/1257 - 0s - loss: 0.0614 - val_loss: 0.0719\n",
      "Epoch 282/1000\n",
      "1257/1257 - 0s - loss: 0.0610 - val_loss: 0.0716\n",
      "Epoch 283/1000\n",
      "1257/1257 - 0s - loss: 0.0608 - val_loss: 0.0717\n",
      "Epoch 284/1000\n",
      "1257/1257 - 0s - loss: 0.0611 - val_loss: 0.0719\n",
      "Epoch 285/1000\n",
      "1257/1257 - 0s - loss: 0.0608 - val_loss: 0.0712\n",
      "Epoch 286/1000\n",
      "1257/1257 - 0s - loss: 0.0613 - val_loss: 0.0715\n",
      "Epoch 287/1000\n",
      "1257/1257 - 0s - loss: 0.0608 - val_loss: 0.0710\n",
      "Epoch 288/1000\n",
      "1257/1257 - 0s - loss: 0.0607 - val_loss: 0.0715\n",
      "Epoch 289/1000\n",
      "1257/1257 - 0s - loss: 0.0607 - val_loss: 0.0714\n",
      "Epoch 290/1000\n",
      "1257/1257 - 0s - loss: 0.0608 - val_loss: 0.0717\n",
      "Epoch 291/1000\n",
      "1257/1257 - 0s - loss: 0.0608 - val_loss: 0.0716\n",
      "Epoch 292/1000\n",
      "1257/1257 - 0s - loss: 0.0610 - val_loss: 0.0710\n",
      "Epoch 293/1000\n",
      "1257/1257 - 0s - loss: 0.0603 - val_loss: 0.0712\n",
      "Epoch 294/1000\n",
      "1257/1257 - 0s - loss: 0.0607 - val_loss: 0.0711\n",
      "Epoch 295/1000\n",
      "1257/1257 - 0s - loss: 0.0603 - val_loss: 0.0711\n",
      "Epoch 296/1000\n",
      "1257/1257 - 0s - loss: 0.0603 - val_loss: 0.0710\n",
      "Epoch 297/1000\n",
      "1257/1257 - 0s - loss: 0.0604 - val_loss: 0.0710\n",
      "Epoch 298/1000\n",
      "1257/1257 - 0s - loss: 0.0600 - val_loss: 0.0713\n",
      "Epoch 299/1000\n",
      "1257/1257 - 0s - loss: 0.0604 - val_loss: 0.0711\n",
      "Epoch 300/1000\n",
      "1257/1257 - 0s - loss: 0.0605 - val_loss: 0.0711\n",
      "Epoch 301/1000\n",
      "1257/1257 - 0s - loss: 0.0604 - val_loss: 0.0714\n",
      "Epoch 302/1000\n",
      "1257/1257 - 0s - loss: 0.0606 - val_loss: 0.0714\n",
      "Epoch 303/1000\n",
      "1257/1257 - 0s - loss: 0.0610 - val_loss: 0.0710\n",
      "Epoch 304/1000\n",
      "1257/1257 - 0s - loss: 0.0600 - val_loss: 0.0709\n",
      "Epoch 305/1000\n",
      "1257/1257 - 0s - loss: 0.0604 - val_loss: 0.0714\n",
      "Epoch 306/1000\n",
      "1257/1257 - 0s - loss: 0.0603 - val_loss: 0.0710\n",
      "Epoch 307/1000\n",
      "1257/1257 - 0s - loss: 0.0597 - val_loss: 0.0707\n",
      "Epoch 308/1000\n",
      "1257/1257 - 0s - loss: 0.0597 - val_loss: 0.0711\n",
      "Epoch 309/1000\n",
      "1257/1257 - 0s - loss: 0.0598 - val_loss: 0.0711\n",
      "Epoch 310/1000\n",
      "1257/1257 - 0s - loss: 0.0603 - val_loss: 0.0717\n",
      "Epoch 311/1000\n",
      "1257/1257 - 0s - loss: 0.0602 - val_loss: 0.0713\n",
      "Epoch 312/1000\n",
      "1257/1257 - 0s - loss: 0.0601 - val_loss: 0.0707\n",
      "Epoch 313/1000\n",
      "1257/1257 - 0s - loss: 0.0602 - val_loss: 0.0714\n",
      "Epoch 314/1000\n",
      "1257/1257 - 0s - loss: 0.0600 - val_loss: 0.0709\n",
      "Epoch 315/1000\n",
      "1257/1257 - 0s - loss: 0.0599 - val_loss: 0.0712\n",
      "Epoch 316/1000\n",
      "1257/1257 - 0s - loss: 0.0603 - val_loss: 0.0716\n",
      "Epoch 317/1000\n",
      "1257/1257 - 0s - loss: 0.0603 - val_loss: 0.0713\n",
      "Epoch 318/1000\n",
      "1257/1257 - 0s - loss: 0.0601 - val_loss: 0.0712\n",
      "Epoch 319/1000\n",
      "1257/1257 - 0s - loss: 0.0602 - val_loss: 0.0712\n",
      "Epoch 320/1000\n",
      "1257/1257 - 0s - loss: 0.0600 - val_loss: 0.0713\n",
      "Epoch 321/1000\n",
      "1257/1257 - 0s - loss: 0.0601 - val_loss: 0.0707\n",
      "Epoch 322/1000\n",
      "1257/1257 - 0s - loss: 0.0602 - val_loss: 0.0708\n",
      "Epoch 323/1000\n",
      "1257/1257 - 0s - loss: 0.0596 - val_loss: 0.0716\n",
      "Epoch 324/1000\n",
      "1257/1257 - 0s - loss: 0.0603 - val_loss: 0.0708\n",
      "Epoch 325/1000\n",
      "1257/1257 - 0s - loss: 0.0600 - val_loss: 0.0709\n",
      "Epoch 326/1000\n",
      "1257/1257 - 0s - loss: 0.0596 - val_loss: 0.0711\n",
      "Epoch 327/1000\n",
      "1257/1257 - 0s - loss: 0.0593 - val_loss: 0.0713\n",
      "Epoch 328/1000\n",
      "1257/1257 - 0s - loss: 0.0596 - val_loss: 0.0708\n",
      "Epoch 329/1000\n",
      "1257/1257 - 0s - loss: 0.0593 - val_loss: 0.0707\n",
      "Epoch 330/1000\n",
      "1257/1257 - 0s - loss: 0.0594 - val_loss: 0.0710\n",
      "Epoch 331/1000\n",
      "1257/1257 - 0s - loss: 0.0597 - val_loss: 0.0714\n",
      "Epoch 332/1000\n",
      "1257/1257 - 0s - loss: 0.0599 - val_loss: 0.0708\n",
      "Epoch 333/1000\n",
      "1257/1257 - 0s - loss: 0.0597 - val_loss: 0.0713\n",
      "Epoch 334/1000\n",
      "1257/1257 - 0s - loss: 0.0597 - val_loss: 0.0706\n",
      "Epoch 335/1000\n",
      "1257/1257 - 0s - loss: 0.0593 - val_loss: 0.0709\n",
      "Epoch 336/1000\n",
      "1257/1257 - 0s - loss: 0.0593 - val_loss: 0.0707\n",
      "Epoch 337/1000\n",
      "1257/1257 - 0s - loss: 0.0595 - val_loss: 0.0714\n",
      "Epoch 338/1000\n",
      "1257/1257 - 0s - loss: 0.0596 - val_loss: 0.0708\n",
      "Epoch 339/1000\n",
      "1257/1257 - 0s - loss: 0.0593 - val_loss: 0.0706\n",
      "Epoch 340/1000\n",
      "1257/1257 - 0s - loss: 0.0594 - val_loss: 0.0706\n",
      "Epoch 341/1000\n",
      "1257/1257 - 0s - loss: 0.0596 - val_loss: 0.0709\n",
      "Epoch 342/1000\n",
      "1257/1257 - 0s - loss: 0.0596 - val_loss: 0.0713\n",
      "Epoch 343/1000\n",
      "1257/1257 - 0s - loss: 0.0593 - val_loss: 0.0704\n",
      "Epoch 344/1000\n",
      "1257/1257 - 0s - loss: 0.0595 - val_loss: 0.0709\n",
      "Epoch 345/1000\n",
      "1257/1257 - 0s - loss: 0.0594 - val_loss: 0.0706\n",
      "Epoch 346/1000\n",
      "1257/1257 - 0s - loss: 0.0592 - val_loss: 0.0708\n",
      "Epoch 347/1000\n",
      "1257/1257 - 0s - loss: 0.0593 - val_loss: 0.0710\n",
      "Epoch 348/1000\n",
      "1257/1257 - 0s - loss: 0.0599 - val_loss: 0.0705\n",
      "1257/1257 - 0s - loss: 0.0595 - val_loss: 0.0706\n",
      "Epoch 353/1000\n",
      "1257/1257 - 0s - loss: 0.0595 - val_loss: 0.0710\n",
      "Epoch 354/1000\n",
      "1257/1257 - 0s - loss: 0.0592 - val_loss: 0.0709\n",
      "Epoch 355/1000\n",
      "1257/1257 - 0s - loss: 0.0591 - val_loss: 0.0710\n",
      "Epoch 356/1000\n",
      "1257/1257 - 0s - loss: 0.0594 - val_loss: 0.0708\n",
      "Epoch 357/1000\n",
      "1257/1257 - 0s - loss: 0.0590 - val_loss: 0.0705\n",
      "Epoch 358/1000\n",
      "1257/1257 - 0s - loss: 0.0588 - val_loss: 0.0704\n",
      "Epoch 359/1000\n",
      "1257/1257 - 0s - loss: 0.0589 - val_loss: 0.0705\n",
      "Epoch 360/1000\n",
      "1257/1257 - 0s - loss: 0.0588 - val_loss: 0.0706\n",
      "Epoch 361/1000\n",
      "1257/1257 - 0s - loss: 0.0588 - val_loss: 0.0703\n",
      "Epoch 362/1000\n",
      "1257/1257 - 0s - loss: 0.0590 - val_loss: 0.0707\n",
      "Epoch 363/1000\n",
      "1257/1257 - 0s - loss: 0.0590 - val_loss: 0.0712\n",
      "Epoch 364/1000\n",
      "1257/1257 - 0s - loss: 0.0587 - val_loss: 0.0700\n",
      "Epoch 365/1000\n",
      "1257/1257 - 0s - loss: 0.0588 - val_loss: 0.0709\n",
      "Epoch 366/1000\n",
      "1257/1257 - 0s - loss: 0.0590 - val_loss: 0.0705\n",
      "Epoch 367/1000\n",
      "1257/1257 - 0s - loss: 0.0586 - val_loss: 0.0710\n",
      "Epoch 368/1000\n",
      "1257/1257 - 0s - loss: 0.0590 - val_loss: 0.0703\n",
      "Epoch 369/1000\n",
      "1257/1257 - 0s - loss: 0.0589 - val_loss: 0.0708\n",
      "Epoch 370/1000\n",
      "1257/1257 - 0s - loss: 0.0591 - val_loss: 0.0705\n",
      "Epoch 371/1000\n",
      "1257/1257 - 0s - loss: 0.0588 - val_loss: 0.0713\n",
      "Epoch 372/1000\n",
      "1257/1257 - 0s - loss: 0.0593 - val_loss: 0.0709\n",
      "Epoch 373/1000\n",
      "1257/1257 - 0s - loss: 0.0594 - val_loss: 0.0705\n",
      "Epoch 374/1000\n",
      "1257/1257 - 0s - loss: 0.0589 - val_loss: 0.0710\n",
      "Epoch 375/1000\n",
      "1257/1257 - 0s - loss: 0.0591 - val_loss: 0.0707\n",
      "Epoch 376/1000\n",
      "1257/1257 - 0s - loss: 0.0588 - val_loss: 0.0700\n",
      "Epoch 377/1000\n",
      "1257/1257 - 0s - loss: 0.0587 - val_loss: 0.0711\n",
      "Epoch 378/1000\n",
      "1257/1257 - 0s - loss: 0.0587 - val_loss: 0.0702\n",
      "Epoch 379/1000\n",
      "1257/1257 - 0s - loss: 0.0581 - val_loss: 0.0705\n",
      "Epoch 380/1000\n",
      "1257/1257 - 0s - loss: 0.0581 - val_loss: 0.0702\n",
      "Epoch 381/1000\n",
      "1257/1257 - 0s - loss: 0.0586 - val_loss: 0.0702\n",
      "Epoch 382/1000\n",
      "1257/1257 - 0s - loss: 0.0586 - val_loss: 0.0703\n",
      "Epoch 383/1000\n",
      "1257/1257 - 0s - loss: 0.0582 - val_loss: 0.0703\n",
      "Epoch 384/1000\n",
      "1257/1257 - 0s - loss: 0.0590 - val_loss: 0.0711\n",
      "Epoch 385/1000\n",
      "1257/1257 - 0s - loss: 0.0590 - val_loss: 0.0707\n",
      "Epoch 386/1000\n",
      "1257/1257 - 0s - loss: 0.0583 - val_loss: 0.0706\n",
      "Epoch 387/1000\n",
      "1257/1257 - 0s - loss: 0.0583 - val_loss: 0.0700\n",
      "Epoch 388/1000\n",
      "1257/1257 - 0s - loss: 0.0581 - val_loss: 0.0703\n",
      "Epoch 389/1000\n",
      "1257/1257 - 0s - loss: 0.0587 - val_loss: 0.0707\n"
     ]
    },
    {
     "name": "stdout",
     "output_type": "stream",
     "text": [
      "Epoch 390/1000\n",
      "1257/1257 - 0s - loss: 0.0585 - val_loss: 0.0706\n",
      "Epoch 391/1000\n",
      "1257/1257 - 0s - loss: 0.0584 - val_loss: 0.0709\n",
      "Epoch 392/1000\n",
      "1257/1257 - 0s - loss: 0.0585 - val_loss: 0.0707\n",
      "Epoch 393/1000\n",
      "1257/1257 - 0s - loss: 0.0583 - val_loss: 0.0701\n",
      "Epoch 394/1000\n",
      "1257/1257 - 0s - loss: 0.0581 - val_loss: 0.0700\n",
      "Epoch 395/1000\n",
      "1257/1257 - 0s - loss: 0.0583 - val_loss: 0.0705\n",
      "Epoch 396/1000\n",
      "1257/1257 - 0s - loss: 0.0586 - val_loss: 0.0707\n",
      "Epoch 397/1000\n",
      "1257/1257 - 0s - loss: 0.0586 - val_loss: 0.0705\n",
      "Epoch 398/1000\n",
      "1257/1257 - 0s - loss: 0.0589 - val_loss: 0.0708\n",
      "Epoch 399/1000\n",
      "1257/1257 - 0s - loss: 0.0586 - val_loss: 0.0703\n",
      "Epoch 400/1000\n",
      "1257/1257 - 0s - loss: 0.0580 - val_loss: 0.0702\n",
      "Epoch 401/1000\n",
      "1257/1257 - 0s - loss: 0.0582 - val_loss: 0.0700\n",
      "Epoch 402/1000\n",
      "1257/1257 - 0s - loss: 0.0581 - val_loss: 0.0705\n",
      "Epoch 403/1000\n",
      "1257/1257 - 0s - loss: 0.0586 - val_loss: 0.0701\n",
      "Epoch 404/1000\n",
      "1257/1257 - 0s - loss: 0.0580 - val_loss: 0.0703\n",
      "Epoch 405/1000\n",
      "1257/1257 - 0s - loss: 0.0584 - val_loss: 0.0703\n",
      "Epoch 406/1000\n",
      "1257/1257 - 0s - loss: 0.0582 - val_loss: 0.0706\n",
      "Epoch 407/1000\n",
      "1257/1257 - 0s - loss: 0.0584 - val_loss: 0.0704\n"
     ]
    },
    {
     "data": {
      "text/plain": [
       "<tensorflow.python.keras.callbacks.History at 0x7f7534643128>"
      ]
     },
     "execution_count": 127,
     "metadata": {},
     "output_type": "execute_result"
    }
   ],
   "source": [
    "history = model.fit(x = X_train, y = X_train, \n",
    "              validation_data= (X_test, X_test),\n",
    "              batch_size=64, \n",
    "              epochs=1000,\n",
    "              verbose = 2,\n",
    "              callbacks=callbacks)"
   ]
  },
  {
   "cell_type": "markdown",
   "metadata": {},
   "source": [
    "# Inspect Learning Curve"
   ]
  },
  {
   "cell_type": "code",
   "execution_count": 136,
   "metadata": {},
   "outputs": [
    {
     "data": {
      "image/png": "[encoded data removed]",
      "text/plain": [
       "<Figure size 432x288 with 1 Axes>"
      ]
     },
     "metadata": {},
     "output_type": "display_data"
    }
   ],
   "source": [
    "NN.plot.learning_curves(history)"
   ]
  },
  {
   "cell_type": "markdown",
   "metadata": {},
   "source": [
    "# Inspect Predictions"
   ]
  },
  {
   "cell_type": "code",
   "execution_count": 141,
   "metadata": {},
   "outputs": [
    {
     "data": {
      "text/plain": [
       "(540, 8, 8, 1)"
      ]
     },
     "execution_count": 141,
     "metadata": {},
     "output_type": "execute_result"
    }
   ],
   "source": [
    "X_test_preds = model.predict(X_test)\n",
    "X_test_preds.shape"
   ]
  },
  {
   "cell_type": "code",
   "execution_count": 139,
   "metadata": {},
   "outputs": [
    {
     "name": "stdout",
     "output_type": "stream",
     "text": [
      "X_test\n"
     ]
    },
    {
     "data": {
      "image/png": "[encoded data removed]",
      "text/plain": [
       "<Figure size 432x288 with 3 Axes>"
      ]
     },
     "metadata": {},
     "output_type": "display_data"
    },
    {
     "data": {
      "image/png": "[encoded data removed]",
      "text/plain": [
       "<Figure size 432x288 with 3 Axes>"
      ]
     },
     "metadata": {},
     "output_type": "display_data"
    },
    {
     "data": {
      "image/png": "[encoded data removed]",
      "text/plain": [
       "<Figure size 432x288 with 3 Axes>"
      ]
     },
     "metadata": {},
     "output_type": "display_data"
    }
   ],
   "source": [
    "print('X_test')\n",
    "JLpyUtils.plot.imgs.from_list(X_test[:9,:,:,0] )"
   ]
  },
  {
   "cell_type": "code",
   "execution_count": 142,
   "metadata": {},
   "outputs": [
    {
     "name": "stdout",
     "output_type": "stream",
     "text": [
      "X_test preds\n"
     ]
    },
    {
     "data": {
      "image/png": "[encoded data removed]",
      "text/plain": [
       "<Figure size 432x288 with 3 Axes>"
      ]
     },
     "metadata": {},
     "output_type": "display_data"
    },
    {
     "data": {
      "image/png": "[encoded data removed]",
      "text/plain": [
       "<Figure size 432x288 with 3 Axes>"
      ]
     },
     "metadata": {},
     "output_type": "display_data"
    },
    {
     "data": {
      "image/png": "[encoded data removed]",
      "text/plain": [
       "<Figure size 432x288 with 3 Axes>"
      ]
     },
     "metadata": {},
     "output_type": "display_data"
    }
   ],
   "source": [
    "print('X_test preds')\n",
    "JLpyUtils.plot.imgs.from_list(X_test_preds[:9,:,:,0] )"
   ]
  },
  {
   "cell_type": "markdown",
   "metadata": {},
   "source": [
    "Cool! Looks like the autoencoder is working pretty well!"
   ]
  }
 ],
 "metadata": {
  "kernelspec": {
   "display_name": "Python 3",
   "language": "python",
   "name": "python3"
  },
  "language_info": {
   "codemirror_mode": {
    "name": "ipython",
    "version": 3
   },
   "file_extension": ".py",
   "mimetype": "text/x-python",
   "name": "python",
   "nbconvert_exporter": "python",
   "pygments_lexer": "ipython3",
   "version": "3.7.2"
  }
 },
 "nbformat": 4,
 "nbformat_minor": 2
}
